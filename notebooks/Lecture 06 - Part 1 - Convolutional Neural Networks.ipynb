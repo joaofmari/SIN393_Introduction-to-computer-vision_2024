{
 "cells": [
  {
   "cell_type": "markdown",
   "metadata": {
    "id": "g_OXy39qk3zW"
   },
   "source": [
    "# **SIN 393 – Introduction to Computer Vision (2024)**\n",
    "\n",
    "# Lecture 06 - Part 1 - Convolutional Neural Networks\n",
    "\n",
    "Prof. João Fernando Mari ([*joaofmari.github.io*](https://joaofmari.github.io/))\n",
    "\n",
    "---"
   ]
  },
  {
   "cell_type": "markdown",
   "metadata": {},
   "source": [
    "## Mounting Google Drive\n",
    "---\n",
    "\n",
    "* If you are running on Google Colab, don't forget to enable GPU access.\n",
    "    * Edit >> Laptop Settings >> Hardware Accelerator\n",
    "    * Select GPU\n",
    "    * OK\n",
    "* After use, disable access."
   ]
  },
  {
   "cell_type": "code",
   "execution_count": 1,
   "metadata": {},
   "outputs": [
    {
     "name": "stdout",
     "output_type": "stream",
     "text": [
      "False\n"
     ]
    }
   ],
   "source": [
    "try:\n",
    "    import google.colab\n",
    "    IN_COLAB = True\n",
    "except:\n",
    "    IN_COLAB = False\n",
    "\n",
    "# DEBUG\n",
    "print(IN_COLAB)\n",
    "\n",
    "if IN_COLAB:\n",
    "    from google.colab import drive\n",
    "    drive.mount('/content/drive')"
   ]
  },
  {
   "cell_type": "markdown",
   "metadata": {
    "id": "xtwkvxQSk5Ov"
   },
   "source": [
    "## Importing the required libraries\n",
    "---"
   ]
  },
  {
   "cell_type": "code",
   "execution_count": 2,
   "metadata": {
    "id": "WD5GFozxkhwf"
   },
   "outputs": [],
   "source": [
    "import numpy as np\n",
    "import matplotlib.pyplot as plt\n",
    "\n",
    "import torch\n",
    "import torch.nn as nn\n",
    "import torch.nn.functional as F\n",
    "import torch.optim as optim\n",
    "\n",
    "import torchvision\n",
    "import torchvision.transforms as transforms\n",
    "\n",
    "%matplotlib notebook"
   ]
  },
  {
   "cell_type": "markdown",
   "metadata": {
    "id": "rojqemqDndc4"
   },
   "source": [
    "## Checking GPU Access\n",
    "---"
   ]
  },
  {
   "cell_type": "code",
   "execution_count": 3,
   "metadata": {
    "id": "u08Rir3zNy3m"
   },
   "outputs": [
    {
     "name": "stdout",
     "output_type": "stream",
     "text": [
      "\n",
      "Device: cuda\n"
     ]
    }
   ],
   "source": [
    "# Check if the GPU is available\n",
    "DEVICE = torch.device('cuda' if torch.cuda.is_available() else 'cpu')\n",
    "print('\\nDevice: {0}'.format(DEVICE))"
   ]
  },
  {
   "cell_type": "code",
   "execution_count": 4,
   "metadata": {
    "colab": {
     "base_uri": "https://localhost:8080/"
    },
    "id": "wOXBEudInd-w",
    "outputId": "2946e33c-c5aa-4947-f344-b80e0bef6888"
   },
   "outputs": [
    {
     "name": "stdout",
     "output_type": "stream",
     "text": [
      "Thu Nov 28 08:27:23 2024       \n",
      "+---------------------------------------------------------------------------------------+\n",
      "| NVIDIA-SMI 535.183.01             Driver Version: 535.183.01   CUDA Version: 12.2     |\n",
      "|-----------------------------------------+----------------------+----------------------+\n",
      "| GPU  Name                 Persistence-M | Bus-Id        Disp.A | Volatile Uncorr. ECC |\n",
      "| Fan  Temp   Perf          Pwr:Usage/Cap |         Memory-Usage | GPU-Util  Compute M. |\n",
      "|                                         |                      |               MIG M. |\n",
      "|=========================================+======================+======================|\n",
      "|   0  NVIDIA GeForce GTX 1050 Ti     Off | 00000000:01:00.0 Off |                  N/A |\n",
      "| 45%   23C    P8              N/A /  75W |      8MiB /  4096MiB |      0%      Default |\n",
      "|                                         |                      |                  N/A |\n",
      "+-----------------------------------------+----------------------+----------------------+\n",
      "                                                                                         \n",
      "+---------------------------------------------------------------------------------------+\n",
      "| Processes:                                                                            |\n",
      "|  GPU   GI   CI        PID   Type   Process name                            GPU Memory |\n",
      "|        ID   ID                                                             Usage      |\n",
      "|=======================================================================================|\n",
      "|    0   N/A  N/A       965      G   /usr/lib/xorg/Xorg                            4MiB |\n",
      "+---------------------------------------------------------------------------------------+\n"
     ]
    }
   ],
   "source": [
    "!nvidia-smi"
   ]
  },
  {
   "cell_type": "markdown",
   "metadata": {
    "id": "FMBopsEdk-5f"
   },
   "source": [
    "## Settings for reproducibility\n",
    "---"
   ]
  },
  {
   "cell_type": "code",
   "execution_count": 5,
   "metadata": {
    "id": "ZlZtCMr4kz-d"
   },
   "outputs": [],
   "source": [
    "np.random.seed(1234)"
   ]
  },
  {
   "cell_type": "markdown",
   "metadata": {
    "id": "gacAYGO4lG0C"
   },
   "source": [
    "## Setting some hyperparameters\n",
    "---"
   ]
  },
  {
   "cell_type": "code",
   "execution_count": 6,
   "metadata": {
    "id": "5bgQsLBKlEbU"
   },
   "outputs": [],
   "source": [
    "# Class names\n",
    "classes = ('plane', 'car', 'bird', 'cat', 'deer', 'dog', 'frog', 'horse', 'ship', 'truck')\n",
    "\n",
    "# Batch size (mini-batch size)\n",
    "batch_size = 8 # 4\n",
    "\n",
    "# Number of training epochs\n",
    "epochs = 50 # Use a small value during development, 2 for example."
   ]
  },
  {
   "cell_type": "markdown",
   "metadata": {
    "id": "-RAjZmYrlV4z"
   },
   "source": [
    "## The dataset\n",
    "---"
   ]
  },
  {
   "cell_type": "code",
   "execution_count": 7,
   "metadata": {
    "colab": {
     "base_uri": "https://localhost:8080/",
     "height": 149,
     "referenced_widgets": [
      "5229cef2e24d4638b23cf913f297a045",
      "8f8ddb43215c4d2681850d17375e1a57",
      "a3c5a43743464f59a0cd587e1747b7ad",
      "64d5ed6f790e43f7977ad2d6153cdf7a",
      "b4588739ee6e4e9eb99c28163fcbbeb8",
      "813a473ba3654eee95de0739163efd86",
      "5fac6ea4ebfe447a9ac22ac65a9ef6c2",
      "2d248bdaf3f14eb7bf3769d6c21efd4c",
      "0e9f622b52e240ddb244ffaf0e500d39",
      "4014f51fb3e1451d8495d8fe663994ce",
      "8275df47ac1044fa820e724be92fc15b"
     ]
    },
    "id": "yrir1oYOlWb3",
    "outputId": "62f17e57-335e-4c12-f11f-09b19f831cda"
   },
   "outputs": [
    {
     "name": "stdout",
     "output_type": "stream",
     "text": [
      "Files already downloaded and verified\n",
      "Files already downloaded and verified\n"
     ]
    }
   ],
   "source": [
    "# Define uma sequencia de transformações que serão aplicadas sobre as imagens dos datasets\n",
    "transform = transforms.Compose([transforms.ToTensor(),\n",
    "                                transforms.Normalize((0.5, 0.5, 0.5), (0.5, 0.5, 0.5))])\n",
    "\n",
    "# Datasets\n",
    "# --------\n",
    "# Training set\n",
    "dataset_train = torchvision.datasets.CIFAR10(root='./data', train=True,\n",
    "                                             download=True, transform=transform)\n",
    "# Test set\n",
    "dataset_test = torchvision.datasets.CIFAR10(root='./data', train=False,\n",
    "                                            download=True, transform=transform)\n",
    "\n",
    "# Dataloaders\n",
    "# -----------\n",
    "# Training set\n",
    "dataloader_train = torch.utils.data.DataLoader(dataset_train, batch_size=batch_size,\n",
    "                                               shuffle=True, num_workers=2)\n",
    "# Test set\n",
    "dataloader_test = torch.utils.data.DataLoader(dataset_test, batch_size=batch_size,\n",
    "                                              shuffle=False, num_workers=2)"
   ]
  },
  {
   "cell_type": "code",
   "execution_count": 8,
   "metadata": {},
   "outputs": [
    {
     "name": "stdout",
     "output_type": "stream",
     "text": [
      "50000\n",
      "10000\n",
      "6250\n",
      "1250\n"
     ]
    }
   ],
   "source": [
    "print(len(dataset_train))\n",
    "print(len(dataset_test))\n",
    "\n",
    "print(len(dataloader_train))\n",
    "print(len(dataloader_test))"
   ]
  },
  {
   "cell_type": "markdown",
   "metadata": {
    "id": "riys3dokleJm"
   },
   "source": [
    "## Defining a simple Convolutional Neural Network\n",
    "---"
   ]
  },
  {
   "cell_type": "code",
   "execution_count": 9,
   "metadata": {
    "id": "qbhO_YVPlgU1"
   },
   "outputs": [],
   "source": [
    "class Net(nn.Module):\n",
    "    \"\"\"\n",
    "    Considering each image having 32 x 32 x 3:\n",
    "\n",
    "    Input [3, 32, 32] \n",
    "    Conv1(3, 6, 5) [6, 28, 28] \n",
    "    Pool(2, 2) [6, 14, 14] \n",
    "    Conv2(6, 16, 5) [16, 10, 10]\n",
    "    Pool(2, 2) [16, 5, 5]\n",
    "    Flatten [400]\n",
    "    Fc1 [120]\n",
    "    Fc2 [84]\n",
    "    Fc3 [10]\n",
    "    \"\"\"\n",
    "    def __init__(self):\n",
    "        \"\"\"\n",
    "        torch.nn.Conv2d(in_channels, out_channels, kernel_size, stride=1, padding=0, \n",
    "                        dilation=1, groups=1, bias=True, padding_mode='zeros', device=None, dtype=None)\n",
    "        torch.nn.MaxPool2d(kernel_size, stride=None, padding=0, dilation=1, return_indices=False, ceil_mode=False)\n",
    "        torch.nn.Linear(in_features, out_features, bias=True, device=None, dtype=None)\n",
    "        \"\"\"\n",
    "        super().__init__()\n",
    "        self.conv1 = nn.Conv2d(3, 6, 5)\n",
    "        self.pool = nn.MaxPool2d(2, 2)\n",
    "        self.conv2 = nn.Conv2d(6, 16, 5)\n",
    "        self.fc1 = nn.Linear(16 * 5 * 5, 120)\n",
    "        self.fc2 = nn.Linear(120, 84)\n",
    "        self.fc3 = nn.Linear(84, 10)\n",
    "\n",
    "    def forward(self, x):\n",
    "        x = self.pool(F.relu(self.conv1(x)))\n",
    "        x = self.pool(F.relu(self.conv2(x)))\n",
    "        x = torch.flatten(x, 1) # flatten all dimensions except batch\n",
    "        x = F.relu(self.fc1(x))\n",
    "        x = F.relu(self.fc2(x))\n",
    "        x = self.fc3(x)\n",
    "        return x"
   ]
  },
  {
   "cell_type": "code",
   "execution_count": 10,
   "metadata": {
    "id": "pb2tLCROn8Jy"
   },
   "outputs": [
    {
     "name": "stdout",
     "output_type": "stream",
     "text": [
      "Net(\n",
      "  (conv1): Conv2d(3, 6, kernel_size=(5, 5), stride=(1, 1))\n",
      "  (pool): MaxPool2d(kernel_size=2, stride=2, padding=0, dilation=1, ceil_mode=False)\n",
      "  (conv2): Conv2d(6, 16, kernel_size=(5, 5), stride=(1, 1))\n",
      "  (fc1): Linear(in_features=400, out_features=120, bias=True)\n",
      "  (fc2): Linear(in_features=120, out_features=84, bias=True)\n",
      "  (fc3): Linear(in_features=84, out_features=10, bias=True)\n",
      ")\n"
     ]
    }
   ],
   "source": [
    "# Instantiates an object of the Net class\n",
    "net = Net()\n",
    "\n",
    "# Send model to GPU\n",
    "net = net.cuda() \n",
    "\n",
    "print(net)"
   ]
  },
  {
   "cell_type": "markdown",
   "metadata": {
    "id": "GQ5ztheDlhxx"
   },
   "source": [
    "## Loss function and optimizer"
   ]
  },
  {
   "cell_type": "code",
   "execution_count": 11,
   "metadata": {
    "id": "nTAAdvNxllhe"
   },
   "outputs": [],
   "source": [
    "# Loss function - Cross entropy\n",
    "criterion = nn.CrossEntropyLoss()\n",
    "\n",
    "# Optimizator - Stochastic Gradient Descent\n",
    "optimizer = optim.SGD(net.parameters(), lr=0.001, momentum=0.9)"
   ]
  },
  {
   "cell_type": "markdown",
   "metadata": {
    "id": "9PSrdawplqM_"
   },
   "source": [
    "## Training the model\n",
    "---"
   ]
  },
  {
   "cell_type": "code",
   "execution_count": 12,
   "metadata": {
    "colab": {
     "base_uri": "https://localhost:8080/"
    },
    "id": "vGFNN1T1lsgZ",
    "outputId": "336cb57d-d250-429b-cdbb-02ed7bb79091"
   },
   "outputs": [
    {
     "name": "stdout",
     "output_type": "stream",
     "text": [
      "Epoch 1: 1.8734\n",
      "Epoch 2: 1.4613\n",
      "Epoch 3: 1.2794\n",
      "Epoch 4: 1.1752\n",
      "Epoch 5: 1.0958\n",
      "Epoch 6: 1.0254\n",
      "Epoch 7: 0.9727\n",
      "Epoch 8: 0.9216\n",
      "Epoch 9: 0.8824\n",
      "Epoch 10: 0.8432\n",
      "Epoch 11: 0.8071\n",
      "Epoch 12: 0.7772\n",
      "Epoch 13: 0.7423\n",
      "Epoch 14: 0.7217\n",
      "Epoch 15: 0.6936\n",
      "Epoch 16: 0.6715\n",
      "Epoch 17: 0.6507\n",
      "Epoch 18: 0.6320\n",
      "Epoch 19: 0.6092\n",
      "Epoch 20: 0.5884\n",
      "Epoch 21: 0.5757\n",
      "Epoch 22: 0.5605\n",
      "Epoch 23: 0.5413\n",
      "Epoch 24: 0.5267\n",
      "Epoch 25: 0.5146\n",
      "Epoch 26: 0.5044\n",
      "Epoch 27: 0.4960\n",
      "Epoch 28: 0.4859\n",
      "Epoch 29: 0.4775\n",
      "Epoch 30: 0.4579\n",
      "Epoch 31: 0.4489\n",
      "Epoch 32: 0.4468\n",
      "Epoch 33: 0.4370\n",
      "Epoch 34: 0.4374\n",
      "Epoch 35: 0.4272\n",
      "Epoch 36: 0.4289\n",
      "Epoch 37: 0.4107\n",
      "Epoch 38: 0.4103\n",
      "Epoch 39: 0.4030\n",
      "Epoch 40: 0.4004\n",
      "Epoch 41: 0.3988\n",
      "Epoch 42: 0.3904\n",
      "Epoch 43: 0.3854\n",
      "Epoch 44: 0.3735\n",
      "Epoch 45: 0.3845\n",
      "Epoch 46: 0.3835\n",
      "Epoch 47: 0.3779\n",
      "Epoch 48: 0.3804\n",
      "Epoch 49: 0.3827\n",
      "Epoch 50: 0.3719\n",
      "\n",
      "Training finished!\n"
     ]
    }
   ],
   "source": [
    "# Iterates over the dataset for a number of epochs.\n",
    "for epoch in range(epochs):  \n",
    "\n",
    "    epoch_loss = 0.0\n",
    "\n",
    "    # Training\n",
    "    # --------\n",
    "    for i, (inputs, labels) in enumerate(dataloader_train, 0):\n",
    "        # Send data to GPU\n",
    "        inputs = inputs.to(DEVICE) \n",
    "        labels = labels.to(DEVICE) \n",
    "\n",
    "        # Zero the parameter gradients\n",
    "        optimizer.zero_grad()\n",
    "\n",
    "        # Forward \n",
    "        outputs = net(inputs)\n",
    "        # Compute the loss function\n",
    "        loss = criterion(outputs, labels)\n",
    "        \n",
    "        # Backward\n",
    "        loss.backward()\n",
    "        \n",
    "        # Optimizes the parameters (weights)\n",
    "        optimizer.step()\n",
    "        \n",
    "        # Update epoch loss\n",
    "        epoch_loss += loss.item()\n",
    "\n",
    "    epoch_loss = epoch_loss / i\n",
    "    print(f'Epoch {epoch + 1}: {epoch_loss:.4f}')\n",
    "    \n",
    "    epoch_loss = 0.0\n",
    "\n",
    "print('\\nTraining finished!')"
   ]
  },
  {
   "cell_type": "markdown",
   "metadata": {
    "id": "GeoyzzlQl0Yg"
   },
   "source": [
    "## Evaluating the model over the test set\n",
    "---"
   ]
  },
  {
   "cell_type": "code",
   "execution_count": 13,
   "metadata": {
    "colab": {
     "base_uri": "https://localhost:8080/"
    },
    "id": "_WeQQ4rBl2pq",
    "outputId": "4b633c24-7ecb-4b9b-cbbf-6ea77cac875f"
   },
   "outputs": [
    {
     "name": "stdout",
     "output_type": "stream",
     "text": [
      "Network accuracy over the test set: 60.6200 %\n"
     ]
    }
   ],
   "source": [
    "# Number of correctly classified images\n",
    "correct = 0\n",
    "# Total number of images\n",
    "total = 0\n",
    "\n",
    "# It is not necessary to calculate the gradients.\n",
    "with torch.no_grad():\n",
    "    for inputs, labels in dataloader_test:\n",
    "        \n",
    "        # Send data to GPU\n",
    "        inputs = inputs.to(DEVICE) \n",
    "        labels = labels.to(DEVICE) \n",
    "        \n",
    "        # Forward\n",
    "        outputs = net(inputs)\n",
    "\n",
    "        # Prediction\n",
    "        _, predicted = torch.max(outputs.data, 1)\n",
    "\n",
    "        # Update the number of images\n",
    "        total += labels.size(0)\n",
    "        # Updates the number of correct classifications\n",
    "        correct += (predicted == labels).sum().item()\n",
    "\n",
    "# Compute the accuracy over the test set\n",
    "accuracy = 100 * correct / total\n",
    "\n",
    "print(f'Network accuracy over the test set: {accuracy:.4f} %')"
   ]
  },
  {
   "cell_type": "markdown",
   "metadata": {
    "id": "dyvLmgHxl9cc"
   },
   "source": [
    "## Bibliography\n",
    "---\n",
    "* PyTorch. Training a Classifier\n",
    "    * https://pytorch.org/tutorials/beginner/blitz/cifar10_tutorial.html\n",
    "* Microsoft. Train your image classifier model with PyTorch.\n",
    "    * https://learn.microsoft.com/en-us/windows/ai/windows-ml/tutorials/pytorch-train-model"
   ]
  }
 ],
 "metadata": {
  "colab": {
   "provenance": []
  },
  "gpuClass": "standard",
  "hide_input": false,
  "kernelspec": {
   "display_name": "env-sin393-py39",
   "language": "python",
   "name": "python3"
  },
  "language_info": {
   "codemirror_mode": {
    "name": "ipython",
    "version": 3
   },
   "file_extension": ".py",
   "mimetype": "text/x-python",
   "name": "python",
   "nbconvert_exporter": "python",
   "pygments_lexer": "ipython3",
   "version": "3.9.17"
  },
  "toc": {
   "base_numbering": 1,
   "nav_menu": {},
   "number_sections": true,
   "sideBar": true,
   "skip_h1_title": true,
   "title_cell": "Table of Contents",
   "title_sidebar": "Contents",
   "toc_cell": false,
   "toc_position": {},
   "toc_section_display": true,
   "toc_window_display": true
  },
  "widgets": {
   "application/vnd.jupyter.widget-state+json": {
    "0e9f622b52e240ddb244ffaf0e500d39": {
     "model_module": "@jupyter-widgets/controls",
     "model_module_version": "1.5.0",
     "model_name": "ProgressStyleModel",
     "state": {
      "_model_module": "@jupyter-widgets/controls",
      "_model_module_version": "1.5.0",
      "_model_name": "ProgressStyleModel",
      "_view_count": null,
      "_view_module": "@jupyter-widgets/base",
      "_view_module_version": "1.2.0",
      "_view_name": "StyleView",
      "bar_color": null,
      "description_width": ""
     }
    },
    "2d248bdaf3f14eb7bf3769d6c21efd4c": {
     "model_module": "@jupyter-widgets/base",
     "model_module_version": "1.2.0",
     "model_name": "LayoutModel",
     "state": {
      "_model_module": "@jupyter-widgets/base",
      "_model_module_version": "1.2.0",
      "_model_name": "LayoutModel",
      "_view_count": null,
      "_view_module": "@jupyter-widgets/base",
      "_view_module_version": "1.2.0",
      "_view_name": "LayoutView",
      "align_content": null,
      "align_items": null,
      "align_self": null,
      "border": null,
      "bottom": null,
      "display": null,
      "flex": null,
      "flex_flow": null,
      "grid_area": null,
      "grid_auto_columns": null,
      "grid_auto_flow": null,
      "grid_auto_rows": null,
      "grid_column": null,
      "grid_gap": null,
      "grid_row": null,
      "grid_template_areas": null,
      "grid_template_columns": null,
      "grid_template_rows": null,
      "height": null,
      "justify_content": null,
      "justify_items": null,
      "left": null,
      "margin": null,
      "max_height": null,
      "max_width": null,
      "min_height": null,
      "min_width": null,
      "object_fit": null,
      "object_position": null,
      "order": null,
      "overflow": null,
      "overflow_x": null,
      "overflow_y": null,
      "padding": null,
      "right": null,
      "top": null,
      "visibility": null,
      "width": null
     }
    },
    "4014f51fb3e1451d8495d8fe663994ce": {
     "model_module": "@jupyter-widgets/base",
     "model_module_version": "1.2.0",
     "model_name": "LayoutModel",
     "state": {
      "_model_module": "@jupyter-widgets/base",
      "_model_module_version": "1.2.0",
      "_model_name": "LayoutModel",
      "_view_count": null,
      "_view_module": "@jupyter-widgets/base",
      "_view_module_version": "1.2.0",
      "_view_name": "LayoutView",
      "align_content": null,
      "align_items": null,
      "align_self": null,
      "border": null,
      "bottom": null,
      "display": null,
      "flex": null,
      "flex_flow": null,
      "grid_area": null,
      "grid_auto_columns": null,
      "grid_auto_flow": null,
      "grid_auto_rows": null,
      "grid_column": null,
      "grid_gap": null,
      "grid_row": null,
      "grid_template_areas": null,
      "grid_template_columns": null,
      "grid_template_rows": null,
      "height": null,
      "justify_content": null,
      "justify_items": null,
      "left": null,
      "margin": null,
      "max_height": null,
      "max_width": null,
      "min_height": null,
      "min_width": null,
      "object_fit": null,
      "object_position": null,
      "order": null,
      "overflow": null,
      "overflow_x": null,
      "overflow_y": null,
      "padding": null,
      "right": null,
      "top": null,
      "visibility": null,
      "width": null
     }
    },
    "5229cef2e24d4638b23cf913f297a045": {
     "model_module": "@jupyter-widgets/controls",
     "model_module_version": "1.5.0",
     "model_name": "HBoxModel",
     "state": {
      "_dom_classes": [],
      "_model_module": "@jupyter-widgets/controls",
      "_model_module_version": "1.5.0",
      "_model_name": "HBoxModel",
      "_view_count": null,
      "_view_module": "@jupyter-widgets/controls",
      "_view_module_version": "1.5.0",
      "_view_name": "HBoxView",
      "box_style": "",
      "children": [
       "IPY_MODEL_8f8ddb43215c4d2681850d17375e1a57",
       "IPY_MODEL_a3c5a43743464f59a0cd587e1747b7ad",
       "IPY_MODEL_64d5ed6f790e43f7977ad2d6153cdf7a"
      ],
      "layout": "IPY_MODEL_b4588739ee6e4e9eb99c28163fcbbeb8"
     }
    },
    "5fac6ea4ebfe447a9ac22ac65a9ef6c2": {
     "model_module": "@jupyter-widgets/controls",
     "model_module_version": "1.5.0",
     "model_name": "DescriptionStyleModel",
     "state": {
      "_model_module": "@jupyter-widgets/controls",
      "_model_module_version": "1.5.0",
      "_model_name": "DescriptionStyleModel",
      "_view_count": null,
      "_view_module": "@jupyter-widgets/base",
      "_view_module_version": "1.2.0",
      "_view_name": "StyleView",
      "description_width": ""
     }
    },
    "64d5ed6f790e43f7977ad2d6153cdf7a": {
     "model_module": "@jupyter-widgets/controls",
     "model_module_version": "1.5.0",
     "model_name": "HTMLModel",
     "state": {
      "_dom_classes": [],
      "_model_module": "@jupyter-widgets/controls",
      "_model_module_version": "1.5.0",
      "_model_name": "HTMLModel",
      "_view_count": null,
      "_view_module": "@jupyter-widgets/controls",
      "_view_module_version": "1.5.0",
      "_view_name": "HTMLView",
      "description": "",
      "description_tooltip": null,
      "layout": "IPY_MODEL_4014f51fb3e1451d8495d8fe663994ce",
      "placeholder": "​",
      "style": "IPY_MODEL_8275df47ac1044fa820e724be92fc15b",
      "value": " 170498071/170498071 [00:13&lt;00:00, 13971152.44it/s]"
     }
    },
    "813a473ba3654eee95de0739163efd86": {
     "model_module": "@jupyter-widgets/base",
     "model_module_version": "1.2.0",
     "model_name": "LayoutModel",
     "state": {
      "_model_module": "@jupyter-widgets/base",
      "_model_module_version": "1.2.0",
      "_model_name": "LayoutModel",
      "_view_count": null,
      "_view_module": "@jupyter-widgets/base",
      "_view_module_version": "1.2.0",
      "_view_name": "LayoutView",
      "align_content": null,
      "align_items": null,
      "align_self": null,
      "border": null,
      "bottom": null,
      "display": null,
      "flex": null,
      "flex_flow": null,
      "grid_area": null,
      "grid_auto_columns": null,
      "grid_auto_flow": null,
      "grid_auto_rows": null,
      "grid_column": null,
      "grid_gap": null,
      "grid_row": null,
      "grid_template_areas": null,
      "grid_template_columns": null,
      "grid_template_rows": null,
      "height": null,
      "justify_content": null,
      "justify_items": null,
      "left": null,
      "margin": null,
      "max_height": null,
      "max_width": null,
      "min_height": null,
      "min_width": null,
      "object_fit": null,
      "object_position": null,
      "order": null,
      "overflow": null,
      "overflow_x": null,
      "overflow_y": null,
      "padding": null,
      "right": null,
      "top": null,
      "visibility": null,
      "width": null
     }
    },
    "8275df47ac1044fa820e724be92fc15b": {
     "model_module": "@jupyter-widgets/controls",
     "model_module_version": "1.5.0",
     "model_name": "DescriptionStyleModel",
     "state": {
      "_model_module": "@jupyter-widgets/controls",
      "_model_module_version": "1.5.0",
      "_model_name": "DescriptionStyleModel",
      "_view_count": null,
      "_view_module": "@jupyter-widgets/base",
      "_view_module_version": "1.2.0",
      "_view_name": "StyleView",
      "description_width": ""
     }
    },
    "8f8ddb43215c4d2681850d17375e1a57": {
     "model_module": "@jupyter-widgets/controls",
     "model_module_version": "1.5.0",
     "model_name": "HTMLModel",
     "state": {
      "_dom_classes": [],
      "_model_module": "@jupyter-widgets/controls",
      "_model_module_version": "1.5.0",
      "_model_name": "HTMLModel",
      "_view_count": null,
      "_view_module": "@jupyter-widgets/controls",
      "_view_module_version": "1.5.0",
      "_view_name": "HTMLView",
      "description": "",
      "description_tooltip": null,
      "layout": "IPY_MODEL_813a473ba3654eee95de0739163efd86",
      "placeholder": "​",
      "style": "IPY_MODEL_5fac6ea4ebfe447a9ac22ac65a9ef6c2",
      "value": "100%"
     }
    },
    "a3c5a43743464f59a0cd587e1747b7ad": {
     "model_module": "@jupyter-widgets/controls",
     "model_module_version": "1.5.0",
     "model_name": "FloatProgressModel",
     "state": {
      "_dom_classes": [],
      "_model_module": "@jupyter-widgets/controls",
      "_model_module_version": "1.5.0",
      "_model_name": "FloatProgressModel",
      "_view_count": null,
      "_view_module": "@jupyter-widgets/controls",
      "_view_module_version": "1.5.0",
      "_view_name": "ProgressView",
      "bar_style": "success",
      "description": "",
      "description_tooltip": null,
      "layout": "IPY_MODEL_2d248bdaf3f14eb7bf3769d6c21efd4c",
      "max": 170498071,
      "min": 0,
      "orientation": "horizontal",
      "style": "IPY_MODEL_0e9f622b52e240ddb244ffaf0e500d39",
      "value": 170498071
     }
    },
    "b4588739ee6e4e9eb99c28163fcbbeb8": {
     "model_module": "@jupyter-widgets/base",
     "model_module_version": "1.2.0",
     "model_name": "LayoutModel",
     "state": {
      "_model_module": "@jupyter-widgets/base",
      "_model_module_version": "1.2.0",
      "_model_name": "LayoutModel",
      "_view_count": null,
      "_view_module": "@jupyter-widgets/base",
      "_view_module_version": "1.2.0",
      "_view_name": "LayoutView",
      "align_content": null,
      "align_items": null,
      "align_self": null,
      "border": null,
      "bottom": null,
      "display": null,
      "flex": null,
      "flex_flow": null,
      "grid_area": null,
      "grid_auto_columns": null,
      "grid_auto_flow": null,
      "grid_auto_rows": null,
      "grid_column": null,
      "grid_gap": null,
      "grid_row": null,
      "grid_template_areas": null,
      "grid_template_columns": null,
      "grid_template_rows": null,
      "height": null,
      "justify_content": null,
      "justify_items": null,
      "left": null,
      "margin": null,
      "max_height": null,
      "max_width": null,
      "min_height": null,
      "min_width": null,
      "object_fit": null,
      "object_position": null,
      "order": null,
      "overflow": null,
      "overflow_x": null,
      "overflow_y": null,
      "padding": null,
      "right": null,
      "top": null,
      "visibility": null,
      "width": null
     }
    }
   }
  }
 },
 "nbformat": 4,
 "nbformat_minor": 1
}
